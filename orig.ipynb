{
 "cells": [
  {
   "cell_type": "code",
   "execution_count": 12,
   "metadata": {
    "collapsed": false
   },
   "outputs": [],
   "source": [
    "import psutil\n",
    "import os\n",
    "\n",
    "from collections import OrderedDict\n",
    "from plumbum import local\n",
    "from plumbum.cmd import gawk, sort, parallel, bash\n",
    "from plumbum import SshMachine"
   ]
  },
  {
   "cell_type": "code",
   "execution_count": 9,
   "metadata": {
    "collapsed": false
   },
   "outputs": [
    {
     "name": "stdout",
     "output_type": "stream",
     "text": [
      "/usr/bin/sh: -c: line 0: unexpected EOF while looking for matching `\"'\r\n",
      "/usr/bin/sh: -c: line 1: syntax error: unexpected end of file\r\n"
     ]
    }
   ],
   "source": [
    "!parallel --block 100M -a Business_Licenses.csv --pipepart myfunc\\\n",
    "               | gawk -b --optimize  -vIGNORECASE=1 '{a[$2]+=$1}\\\n",
    "                 END { for (k in a) { if (a[k] > 100) print a[k],k } }'\\\n",
    "               | sort -rn --parallel=8\"\"\""
   ]
  },
  {
   "cell_type": "code",
   "execution_count": 7,
   "metadata": {
    "collapsed": true
   },
   "outputs": [],
   "source": [
    "class NumaNode():\n",
    "    def __init__(self, node_id, remote=False):\n",
    "        self.node_id = node_id\n",
    "        self.cpus = self.set_cpus()\n",
    "        self.remote = remote\n",
    "        \n",
    "    def set_cpus(self):\n",
    "        sysdir = '/sys/devices/system/node/node%s' % self.node_id\n",
    "        cpulistfile = \"%s/cpulist\" % sysdir\n",
    "        cpu_range = convert_sysrange(cpulistfile)\n",
    "        return cpu_range"
   ]
  },
  {
   "cell_type": "code",
   "execution_count": 8,
   "metadata": {
    "collapsed": false
   },
   "outputs": [],
   "source": [
    "def convert_sysrange(sys_file):\n",
    "    range_split = cat(sys_file).strip().split('-')\n",
    "    if len(range_split) <= 1:\n",
    "        ret = [0]\n",
    "    \n",
    "    else:\n",
    "        start, end = map(int, range_split)\n",
    "        end+=1\n",
    "        ret = xrange(start, end)\n",
    "    \n",
    "    return ret"
   ]
  },
  {
   "cell_type": "code",
   "execution_count": 9,
   "metadata": {
    "collapsed": false
   },
   "outputs": [
    {
     "name": "stdout",
     "output_type": "stream",
     "text": [
      "[xrange(4)]\n"
     ]
    }
   ],
   "source": [
    "def create_numanodes():\n",
    "    ret = []\n",
    "        \n",
    "    online_loc = '/sys/devices/system/node/online'\n",
    "    online = convert_sysrange(online_loc) # get online nodes\n",
    "    nodes = [ NumaNode(n) for n in online ]\n",
    "    return nodes\n",
    "\n",
    "class Server():\n",
    "    numa_nodes = create_numanodes()\n",
    "    cpus = [ cpu for cpu in [ node.cpus for node in numa_nodes ] ]\n",
    "    print cpus"
   ]
  },
  {
   "cell_type": "code",
   "execution_count": 10,
   "metadata": {
    "collapsed": false
   },
   "outputs": [
    {
     "ename": "SyntaxError",
     "evalue": "invalid syntax (<ipython-input-10-ea43992eb5c9>, line 10)",
     "output_type": "error",
     "traceback": [
      "\u001b[1;36m  File \u001b[1;32m\"<ipython-input-10-ea43992eb5c9>\"\u001b[1;36m, line \u001b[1;32m10\u001b[0m\n\u001b[1;33m    if\u001b[0m\n\u001b[1;37m       ^\u001b[0m\n\u001b[1;31mSyntaxError\u001b[0m\u001b[1;31m:\u001b[0m invalid syntax\n"
     ]
    }
   ],
   "source": [
    "class Cpu:\n",
    "    def __init__(self, cpu_id, machine):\n",
    "        self.cpu_id = cpu_id\n",
    "        self.sysdir = '/sys/devices/system/cpu/cpu%s' % cpu_id\n",
    "        self.machine = \n",
    "        \n",
    "    def set_params(self, cpu_id):\n",
    "        params = OrderedDict()\n",
    "        \n",
    "        if remote:\n",
    "        govdir = \"%s/cpufreq/scaling_governor\" % self.sysdir\n",
    "        params['governor'] = cat(govdir).strip()\n",
    "        \n",
    "        return params\n",
    "    \n",
    "    def get_processes(self):\n",
    "        procs = psutil.get_processes(self.cpu_id)\n",
    "        return procs"
   ]
  },
  {
   "cell_type": "code",
   "execution_count": 7,
   "metadata": {
    "collapsed": false
   },
   "outputs": [],
   "source": [
    "ssh = SshMachine('127.0.0.1', user='matt', password='')"
   ]
  },
  {
   "cell_type": "code",
   "execution_count": 69,
   "metadata": {
    "collapsed": false
   },
   "outputs": [
    {
     "name": "stdout",
     "output_type": "stream",
     "text": [
      "[<__main__.NumaNode instance at 0x7f6ac9622998>]\n"
     ]
    }
   ],
   "source": [
    "s = Server()\n",
    "print s.numa_nodes"
   ]
  },
  {
   "cell_type": "code",
   "execution_count": 88,
   "metadata": {
    "collapsed": true
   },
   "outputs": [],
   "source": []
  }
 ],
 "metadata": {
  "kernelspec": {
   "display_name": "Python 2",
   "language": "python",
   "name": "python2"
  },
  "language_info": {
   "codemirror_mode": {
    "name": "ipython",
    "version": 2
   },
   "file_extension": ".py",
   "mimetype": "text/x-python",
   "name": "python",
   "nbconvert_exporter": "python",
   "pygments_lexer": "ipython2",
   "version": "2.7.11"
  }
 },
 "nbformat": 4,
 "nbformat_minor": 0
}
