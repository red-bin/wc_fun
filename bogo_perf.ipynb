{
 "cells": [
  {
   "cell_type": "code",
   "execution_count": 2,
   "metadata": {
    "collapsed": false
   },
   "outputs": [],
   "source": [
    "from datetime import datetime\n",
    "from math import log\n",
    "import random\n",
    "import time"
   ]
  },
  {
   "cell_type": "code",
   "execution_count": 7,
   "metadata": {
    "collapsed": false
   },
   "outputs": [],
   "source": [
    "from random import randint\n",
    "\n",
    "def jobnum():\n",
    "    if randint(0,1):\n",
    "        return 2 ** randint(1,5) + 2 ** randint(0,3)\n",
    "    else:\n",
    "        return abs(2 ** randint(1,5) - 2 ** randint(0,3))\n",
    "    \n",
    "def blocksize():\n",
    "    unit = random.sample(['M','K'],1)[0]\n",
    "    val = 2 ** randint(1,10)\n",
    "    ret = \"%s%s\" % (val, unit)\n",
    "    return ret"
   ]
  },
  {
   "cell_type": "code",
   "execution_count": null,
   "metadata": {
    "collapsed": false
   },
   "outputs": [],
   "source": [
    "filename = \"/home/matt/Business_Licenses.csv\"\n",
    "while True:\n",
    "    b = blocksize()\n",
    "    j = jobnum()\n",
    "    print \"Starting.. %s %s\" % (b,j)\n",
    "    starttime=datetime.now()\n",
    "    burp = !timeout -s9 5s ./wordcount.sh -b$b -j$j $filename\n",
    "    if '861196 chicago' in burp:\n",
    "        endtime=datetime.now()\n",
    "        delta = endtime - starttime\n",
    "        print b, j, delta\n",
    "        \n",
    "    time.sleep(1)"
   ]
  }
 ],
 "metadata": {
  "kernelspec": {
   "display_name": "Python 2",
   "language": "python",
   "name": "python2"
  }
 },
 "nbformat": 4,
 "nbformat_minor": 0
}
